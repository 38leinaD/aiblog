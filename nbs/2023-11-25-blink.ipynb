{
 "cells": [
  {
   "cell_type": "markdown",
   "id": "75fa4e67-5e7c-4ffb-ae06-22faed2028c2",
   "metadata": {},
   "source": [
    "# Blink Camera"
   ]
  },
  {
   "cell_type": "markdown",
   "id": "f0e76dc5-324b-439a-a6c4-66dceb0d1b32",
   "metadata": {},
   "source": [
    "I have been tinkering with our new [Blink camera](https://blinkforhome.com) to see if I can access it from Python; possibliy to use it for some Image-classification testing.\n",
    "Meet [Blinkpy](https://github.com/fronzbot/blinkpy)."
   ]
  },
  {
   "cell_type": "code",
   "execution_count": null,
   "id": "a42f7b69-8dff-439c-82b4-d37058378f3c",
   "metadata": {},
   "outputs": [],
   "source": [
    "!pip install -q blinkpy"
   ]
  },
  {
   "cell_type": "code",
   "execution_count": null,
   "id": "a331b564-d88a-4e09-b2c7-6bc4985cb137",
   "metadata": {},
   "outputs": [],
   "source": [
    "import asyncio\n",
    "import os.path\n",
    "from aiohttp import ClientSession\n",
    "from blinkpy.blinkpy import Blink\n",
    "from blinkpy.auth import Auth\n",
    "from blinkpy.helpers.util import json_load\n",
    "\n",
    "async def inital_connect():\n",
    "    blink = Blink(session=ClientSession())\n",
    "    await blink.start()\n",
    "    return blink\n",
    "\n",
    "async def connect(credentials):\n",
    "    blink = Blink()\n",
    "    auth = Auth(await json_load(credentials))\n",
    "    blink.auth = auth\n",
    "    await blink.start()\n",
    "    return blink\n",
    "\n"
   ]
  },
  {
   "cell_type": "markdown",
   "id": "01eb8607-4163-43e4-bce0-15b384ba3ca8",
   "metadata": {},
   "source": [
    "First time you use it, it will ask for credentials and an MFA code.\n",
    "When you have done this once and saved the credentials, you will not have to reenter them."
   ]
  },
  {
   "cell_type": "code",
   "execution_count": null,
   "id": "888861f5-6f10-4a7a-a91e-7f1b770e2c4d",
   "metadata": {},
   "outputs": [],
   "source": [
    "CREDENTIALS_FILE = \"./blink.credentials.txt\"\n",
    "if not os.path.isfile(\"./blink.credentials.txt\"):\n",
    "    blink = await inital_connect()\n",
    "    await blink.save(CREDENTIALS_PATH)\n",
    "else:\n",
    "    blink = await connect(CREDENTIALS_FILE)"
   ]
  },
  {
   "cell_type": "markdown",
   "id": "9f46738f-de56-4654-80c2-6460f57d4b12",
   "metadata": {},
   "source": [
    "Now you can access your cameras. Lets list them first:"
   ]
  },
  {
   "cell_type": "code",
   "execution_count": null,
   "id": "02207f25-e16e-4dc9-b87a-038674f7690f",
   "metadata": {},
   "outputs": [],
   "source": [
    "for name, camera in blink.cameras.items():\n",
    "    print(name)                   # Name of the camera\n",
    "    print(camera.attributes)      # Print available attributes of camera"
   ]
  },
  {
   "cell_type": "markdown",
   "id": "703084e3-69f7-42cb-bfbb-7844fc391751",
   "metadata": {},
   "source": [
    "Let's take a picture from one of the cameras and write it to a file."
   ]
  },
  {
   "cell_type": "code",
   "execution_count": null,
   "id": "16130739-2a6b-46e6-8b37-7483a2051087",
   "metadata": {},
   "outputs": [],
   "source": [
    "camera = blink.cameras['Froschi']\n",
    "await camera.snap_picture()\n",
    "await blink.refresh()\n",
    "await camera.image_to_file(\"img.jpg\")"
   ]
  },
  {
   "cell_type": "markdown",
   "id": "fee9be39-a27f-4bd0-b27d-e4eb75d662dc",
   "metadata": {},
   "source": [
    "Let's print the image."
   ]
  },
  {
   "cell_type": "code",
   "execution_count": null,
   "id": "cb3e7883-ca78-4e54-befe-6613d7c6f43b",
   "metadata": {},
   "outputs": [],
   "source": [
    "from PIL import Image\n",
    "pil_im = Image.open(\"img.jpg\")\n",
    "pil_im"
   ]
  }
 ],
 "metadata": {
  "kernelspec": {
   "display_name": "python3",
   "language": "python",
   "name": "python3"
  }
 },
 "nbformat": 4,
 "nbformat_minor": 5
}
